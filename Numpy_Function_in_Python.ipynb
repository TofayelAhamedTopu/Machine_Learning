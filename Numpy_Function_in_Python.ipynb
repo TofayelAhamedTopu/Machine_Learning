{
  "nbformat": 4,
  "nbformat_minor": 0,
  "metadata": {
    "kernelspec": {
      "display_name": "Python 3",
      "language": "python",
      "name": "python3"
    },
    "language_info": {
      "codemirror_mode": {
        "name": "ipython",
        "version": 3
      },
      "file_extension": ".py",
      "mimetype": "text/x-python",
      "name": "python",
      "nbconvert_exporter": "python",
      "pygments_lexer": "ipython3",
      "version": "3.8.3"
    },
    "colab": {
      "name": "Numpy Function  in Python.ipynb",
      "provenance": [],
      "include_colab_link": true
    }
  },
  "cells": [
    {
      "cell_type": "markdown",
      "metadata": {
        "id": "view-in-github",
        "colab_type": "text"
      },
      "source": [
        "<a href=\"https://colab.research.google.com/github/TofayelAhamedTopu/Machine_Learning/blob/main/Numpy_Function_in_Python.ipynb\" target=\"_parent\"><img src=\"https://colab.research.google.com/assets/colab-badge.svg\" alt=\"Open In Colab\"/></a>"
      ]
    },
    {
      "cell_type": "code",
      "metadata": {
        "id": "mJ1Xo3ouEvSB",
        "outputId": "c716955d-6aaf-497c-82da-130e9539571a"
      },
      "source": [
        "#1 Read CSV File\n",
        "import numpy as np\n",
        "filename='Data.csv'\n",
        "data=np.loadtxt(filename,delimiter=',',dtype=str)\n",
        "print(data)"
      ],
      "execution_count": null,
      "outputs": [
        {
          "output_type": "stream",
          "text": [
            "[['Country' 'Age' 'Salary' 'Purchased']\n",
            " ['France' '44' '72000' 'No']\n",
            " ['Spain' '27' '48000' 'Yes']\n",
            " ['Germany' '30' '54000' 'No']\n",
            " ['Spain' '38' '61000' 'No']\n",
            " ['Germany' '40' '' 'Yes']\n",
            " ['France' '35' '58000' 'Yes']\n",
            " ['Spain' '' '52000' 'No']\n",
            " ['France' '48' '79000' 'Yes']\n",
            " ['Germany' '50' '83000' 'No']\n",
            " ['France' '37' '67000' 'Yes']]\n"
          ],
          "name": "stdout"
        }
      ]
    },
    {
      "cell_type": "code",
      "metadata": {
        "id": "jIAdZzy_EvSM",
        "colab": {
          "base_uri": "https://localhost:8080/",
          "height": 35
        },
        "outputId": "ef5f287f-b6cb-4e0b-d5f9-ad073526059d"
      },
      "source": [
        "#2 Creating arrays\n",
        "#Random integers in a specific range\n",
        "import numpy as np\n",
        "np.random.randint(5,size=7)"
      ],
      "execution_count": null,
      "outputs": [
        {
          "output_type": "execute_result",
          "data": {
            "text/plain": [
              "array([4, 1, 4, 0, 2, 0, 2])"
            ]
          },
          "metadata": {
            "tags": []
          },
          "execution_count": 1
        }
      ]
    },
    {
      "cell_type": "code",
      "metadata": {
        "id": "VjqrLg3ZEvSV",
        "outputId": "aa269080-77ae-4718-b640-ea35e544b0fa"
      },
      "source": [
        "#3 Random floats\n",
        "np.random.random(5)"
      ],
      "execution_count": null,
      "outputs": [
        {
          "output_type": "execute_result",
          "data": {
            "text/plain": [
              "array([0.96298522, 0.73504068, 0.57773915, 0.06280542, 0.73953541])"
            ]
          },
          "metadata": {
            "tags": []
          },
          "execution_count": 3
        }
      ]
    },
    {
      "cell_type": "code",
      "metadata": {
        "id": "9oxsuk4kEvSc",
        "outputId": "e688b366-9f7b-4c9a-bff5-ee5430be6be7"
      },
      "source": [
        "#4 standard normal distribution mean\n",
        "print(np.random.random(100).mean())"
      ],
      "execution_count": null,
      "outputs": [
        {
          "output_type": "stream",
          "text": [
            "0.46082120464674103\n"
          ],
          "name": "stdout"
        }
      ]
    },
    {
      "cell_type": "code",
      "metadata": {
        "id": "aWNFjLVkEvSi",
        "outputId": "09d3de0c-617b-4c70-f083-dd744482dd69"
      },
      "source": [
        "#5 standard normal distribution Std\n",
        "print(np.random.random(100).std())"
      ],
      "execution_count": null,
      "outputs": [
        {
          "output_type": "stream",
          "text": [
            "0.27269567926498545\n"
          ],
          "name": "stdout"
        }
      ]
    },
    {
      "cell_type": "code",
      "metadata": {
        "id": "5gp4WH41EvSl",
        "outputId": "6db1ff9b-50a3-4cc5-894c-f87cdbd8a295"
      },
      "source": [
        "#6 Matrix (4,4)\n",
        "np.ones((4,4))"
      ],
      "execution_count": null,
      "outputs": [
        {
          "output_type": "execute_result",
          "data": {
            "text/plain": [
              "array([[1., 1., 1., 1.],\n",
              "       [1., 1., 1., 1.],\n",
              "       [1., 1., 1., 1.],\n",
              "       [1., 1., 1., 1.]])"
            ]
          },
          "metadata": {
            "tags": []
          },
          "execution_count": 7
        }
      ]
    },
    {
      "cell_type": "code",
      "metadata": {
        "id": "NQ1kSq6eEvSq",
        "outputId": "dcf2e172-16d0-4dad-b658-6256457763a8"
      },
      "source": [
        "#7 Matrix (1)\n",
        "np.ones(4)"
      ],
      "execution_count": null,
      "outputs": [
        {
          "output_type": "execute_result",
          "data": {
            "text/plain": [
              "array([1., 1., 1., 1.])"
            ]
          },
          "metadata": {
            "tags": []
          },
          "execution_count": 9
        }
      ]
    },
    {
      "cell_type": "code",
      "metadata": {
        "id": "FVEUgRJREvSw",
        "outputId": "82c87b51-bd8e-4650-da17-4d8b0face472"
      },
      "source": [
        "#8 Arange fixed Size\n",
        "np.arange(4)"
      ],
      "execution_count": null,
      "outputs": [
        {
          "output_type": "execute_result",
          "data": {
            "text/plain": [
              "array([0, 1, 2, 3])"
            ]
          },
          "metadata": {
            "tags": []
          },
          "execution_count": 10
        }
      ]
    },
    {
      "cell_type": "code",
      "metadata": {
        "id": "JUqZ9NlhEvS1",
        "outputId": "41212519-e433-4115-f1ff-d7c6d24b8252"
      },
      "source": [
        "#9 Arange \n",
        "np.arange(1,11)"
      ],
      "execution_count": null,
      "outputs": [
        {
          "output_type": "execute_result",
          "data": {
            "text/plain": [
              "array([ 1,  2,  3,  4,  5,  6,  7,  8,  9, 10])"
            ]
          },
          "metadata": {
            "tags": []
          },
          "execution_count": 12
        }
      ]
    },
    {
      "cell_type": "code",
      "metadata": {
        "id": "RpDVO8WzEvS3",
        "outputId": "21010932-4836-46d0-a702-c2c172ef1b4f"
      },
      "source": [
        "#10 Transpose switch rows and columns\n",
        "M=np.random.randint(5,size=(3,4))\n",
        "M"
      ],
      "execution_count": null,
      "outputs": [
        {
          "output_type": "execute_result",
          "data": {
            "text/plain": [
              "array([[3, 0, 4, 2],\n",
              "       [0, 4, 0, 2],\n",
              "       [3, 3, 1, 3]])"
            ]
          },
          "metadata": {
            "tags": []
          },
          "execution_count": 14
        }
      ]
    },
    {
      "cell_type": "code",
      "metadata": {
        "id": "-MPApJ7vEvS6",
        "outputId": "c8b9fceb-aa8f-41e8-8606-18b0e89da7bf"
      },
      "source": [
        "M.transpose()"
      ],
      "execution_count": null,
      "outputs": [
        {
          "output_type": "execute_result",
          "data": {
            "text/plain": [
              "array([[3, 0, 3],\n",
              "       [0, 4, 3],\n",
              "       [4, 0, 1],\n",
              "       [2, 2, 3]])"
            ]
          },
          "metadata": {
            "tags": []
          },
          "execution_count": 16
        }
      ]
    },
    {
      "cell_type": "code",
      "metadata": {
        "id": "sDxBGG9PEvS9",
        "outputId": "acba0d48-8b79-40ec-f2aa-4ce30604da24"
      },
      "source": [
        "#11 Concatenate\n",
        "a=np.array([1,2,3,4])\n",
        "b=np.array([5,6,7,8])\n",
        "np.concatenate((a,b))\n"
      ],
      "execution_count": null,
      "outputs": [
        {
          "output_type": "execute_result",
          "data": {
            "text/plain": [
              "array([1, 2, 3, 4, 5, 6, 7, 8])"
            ]
          },
          "metadata": {
            "tags": []
          },
          "execution_count": 19
        }
      ]
    },
    {
      "cell_type": "code",
      "metadata": {
        "id": "TOd1aBLeEvTA",
        "outputId": "8b7fdbe8-ec52-4d96-f801-75cede67b429"
      },
      "source": [
        "#12 Vstack arrays vertically\n",
        "x=np.array([1,2,3,4])\n",
        "y=np.array([5,6,7,8])\n",
        "z=np.array([9,10,11,12])\n",
        "np.vstack((x,y,z))"
      ],
      "execution_count": null,
      "outputs": [
        {
          "output_type": "execute_result",
          "data": {
            "text/plain": [
              "array([[ 1,  2,  3,  4],\n",
              "       [ 5,  6,  7,  8],\n",
              "       [ 9, 10, 11, 12]])"
            ]
          },
          "metadata": {
            "tags": []
          },
          "execution_count": 23
        }
      ]
    },
    {
      "cell_type": "code",
      "metadata": {
        "id": "agEqyX7xEvTE",
        "outputId": "a9fa87e2-5ec6-4a72-cf69-073bfa8cfa8d"
      },
      "source": [
        "#13 capitalize\n",
        "print (np.char.capitalize('hi'))"
      ],
      "execution_count": null,
      "outputs": [
        {
          "output_type": "stream",
          "text": [
            "Hi\n"
          ],
          "name": "stdout"
        }
      ]
    },
    {
      "cell_type": "code",
      "metadata": {
        "id": "Cj523RI7EvTJ",
        "outputId": "5676de93-ef24-4ace-c8b2-4b79389648f3"
      },
      "source": [
        "#14 Replace ()\n",
        "\n",
        "print (np.char.replace ('My Name IS Topu', 'Topu', 'Tofayel'))"
      ],
      "execution_count": null,
      "outputs": [
        {
          "output_type": "stream",
          "text": [
            "My Name IS Tofayel\n"
          ],
          "name": "stdout"
        }
      ]
    },
    {
      "cell_type": "code",
      "metadata": {
        "id": "IyzDHOGdEvTL",
        "outputId": "fdd16079-542f-454a-8fe9-87c5768addcd"
      },
      "source": [
        "#15 lower Case()\n",
        "print (np.char.lower(['HI','PHYTHON']) )\n",
        "print (np.char.lower('HELLO'))"
      ],
      "execution_count": null,
      "outputs": [
        {
          "output_type": "stream",
          "text": [
            "['hi' 'phython']\n",
            "hello\n"
          ],
          "name": "stdout"
        }
      ]
    },
    {
      "cell_type": "code",
      "metadata": {
        "id": "k_aJxzfJEvTO",
        "outputId": "0e8cbf3a-4fb5-42ab-b7fa-429ee46195c2"
      },
      "source": [
        "#16 Upper Case()\n",
        "print (np.char.upper(['hi','phython']) )\n",
        "print (np.char.upper('hello'))"
      ],
      "execution_count": null,
      "outputs": [
        {
          "output_type": "stream",
          "text": [
            "['HI' 'PHYTHON']\n",
            "HELLO\n"
          ],
          "name": "stdout"
        }
      ]
    },
    {
      "cell_type": "code",
      "metadata": {
        "id": "f3tKs2vDEvTT",
        "outputId": "177263c8-1ee9-48df-aca6-b831a7de2a1f"
      },
      "source": [
        "#17  split()\n",
        "print (np.char.split ('hello phython?') )"
      ],
      "execution_count": null,
      "outputs": [
        {
          "output_type": "stream",
          "text": [
            "['hello', 'phython?']\n"
          ],
          "name": "stdout"
        }
      ]
    },
    {
      "cell_type": "code",
      "metadata": {
        "id": "LvBjBRzOEvTZ",
        "outputId": "1d253e21-2970-49f6-ba91-499dff3c3ffd"
      },
      "source": [
        "#18 Det Returns the determinant of a matrix\n",
        "import numpy as np\n",
        "m=np.random.randint(5,size=(4,4))\n",
        "m\n"
      ],
      "execution_count": null,
      "outputs": [
        {
          "output_type": "execute_result",
          "data": {
            "text/plain": [
              "array([[1, 4, 1, 4],\n",
              "       [4, 0, 2, 3],\n",
              "       [4, 2, 3, 4],\n",
              "       [1, 2, 0, 4]])"
            ]
          },
          "metadata": {
            "tags": []
          },
          "execution_count": 34
        }
      ]
    },
    {
      "cell_type": "code",
      "metadata": {
        "id": "qQjyhcpDEvTc",
        "outputId": "013f7ad7-12ed-4180-ee41-07766ea5b79b"
      },
      "source": [
        "np.linalg.det(m)"
      ],
      "execution_count": null,
      "outputs": [
        {
          "output_type": "execute_result",
          "data": {
            "text/plain": [
              "-12.0"
            ]
          },
          "metadata": {
            "tags": []
          },
          "execution_count": 36
        }
      ]
    },
    {
      "cell_type": "code",
      "metadata": {
        "id": "DWYwf4oNEvTf",
        "outputId": "1bab7b95-4645-4c27-e2b9-e27f4038026f"
      },
      "source": [
        "#19 INV Calculates the inverse of a matrix.\n",
        "np.linalg.inv(m)"
      ],
      "execution_count": null,
      "outputs": [
        {
          "output_type": "execute_result",
          "data": {
            "text/plain": [
              "array([[ 1.5       ,  2.        , -1.83333333, -1.16666667],\n",
              "       [ 1.25      ,  1.        , -1.08333333, -0.91666667],\n",
              "       [-1.5       , -2.        ,  2.16666667,  0.83333333],\n",
              "       [-1.        , -1.        ,  1.        ,  1.        ]])"
            ]
          },
          "metadata": {
            "tags": []
          },
          "execution_count": 37
        }
      ]
    },
    {
      "cell_type": "code",
      "metadata": {
        "id": "8OQMLEFPEvTi",
        "outputId": "ef07896c-15d6-4fb0-df9f-7597f504dbf1"
      },
      "source": [
        "#20 Matmul matrix multiplication\n",
        "a=([[1,2],[3,5]])\n",
        "b=([[3,4],[3,1]])\n",
        "np.matmul(a,b)"
      ],
      "execution_count": null,
      "outputs": [
        {
          "output_type": "execute_result",
          "data": {
            "text/plain": [
              "array([[ 9,  6],\n",
              "       [24, 17]])"
            ]
          },
          "metadata": {
            "tags": []
          },
          "execution_count": 38
        }
      ]
    }
  ]
}